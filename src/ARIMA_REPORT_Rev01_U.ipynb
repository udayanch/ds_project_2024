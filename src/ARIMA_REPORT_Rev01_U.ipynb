        "The data was checked because this data was obtained once every 30 minutes every day. Therefore, if there is data whose timestamp is not a multiple of 30 minutes, the data row will be deleted and a duplicate check will also be carried out on this.\n"
      ]
    },
